{
 "cells": [
  {
   "cell_type": "markdown",
   "metadata": {},
   "source": [
    "# itertools\n",
    "list 등의 자료를 반복자로 제어하는 도구모듈 [link](http://hamait.tistory.com/803)"
   ]
  },
  {
   "cell_type": "code",
   "execution_count": 15,
   "metadata": {},
   "outputs": [
    {
     "data": {
      "text/plain": [
       "['a', 'b', 'c', 'd', 'e', 'f', 1, 0, 1, 0, 0, 1, 0.1, 0.7, 0.4, 0.4, 0.5]"
      ]
     },
     "execution_count": 15,
     "metadata": {},
     "output_type": "execute_result"
    }
   ],
   "source": [
    "# 1> .chain(객체1, 객체2, 객체3)\n",
    "# list + list 와 동일 \n",
    "tters = ['a', 'b', 'c', 'd', 'e', 'f']\n",
    "booleans = [1, 0, 1, 0, 0, 1]\n",
    "decimals = [0.1, 0.7, 0.4, 0.4, 0.5]\n",
    "list(itertools.chain(letters, booleans, decimals))"
   ]
  },
  {
   "cell_type": "code",
   "execution_count": 19,
   "metadata": {},
   "outputs": [
    {
     "name": "stdout",
     "output_type": "stream",
     "text": [
      "0: a\n",
      "10: b\n",
      "20: c\n",
      "30: d\n",
      "40: e\n"
     ]
    }
   ],
   "source": [
    "# 2> .count(시작, Step) \n",
    "# 카운트를 사용자 임의 조건으로 실행\n",
    "from itertools import count\n",
    "for number, letter in zip(count(0, 10), ['a', 'b', 'c', 'd', 'e']):\n",
    "    print ('{0}: {1}'.format(number, letter))"
   ]
  },
  {
   "cell_type": "code",
   "execution_count": 20,
   "metadata": {},
   "outputs": [
    {
     "data": {
      "text/plain": [
       "[(1, 'a'), (2, 'b'), (3, 'c')]"
      ]
     },
     "execution_count": 20,
     "metadata": {},
     "output_type": "execute_result"
    }
   ],
   "source": [
    "# zip() : 튜플로 결합한다\n",
    "list(zip([1, 2, 3], ['a', 'b', 'c']))"
   ]
  },
  {
   "cell_type": "code",
   "execution_count": 23,
   "metadata": {},
   "outputs": [
    {
     "data": {
      "text/plain": [
       "[0, 1, 4, 9, 16, 25, 36, 49, 64, 81]"
      ]
     },
     "execution_count": 23,
     "metadata": {},
     "output_type": "execute_result"
    }
   ],
   "source": [
    "# map() : 요소들을 결합\n",
    "list(map(lambda x: x * x, range(10)))"
   ]
  },
  {
   "cell_type": "code",
   "execution_count": 46,
   "metadata": {},
   "outputs": [
    {
     "data": {
      "text/plain": [
       "[1, 4, 6, 7, 1]"
      ]
     },
     "execution_count": 46,
     "metadata": {},
     "output_type": "execute_result"
    }
   ],
   "source": [
    "# filter() : \n",
    "list(filter(lambda x: x < 10, [1, 4, 6, 7, 11, 34, 66, 100, 1]))"
   ]
  },
  {
   "cell_type": "code",
   "execution_count": 24,
   "metadata": {},
   "outputs": [
    {
     "name": "stdout",
     "output_type": "stream",
     "text": [
      "0\n",
      "1\n",
      "2\n",
      "3\n",
      "4\n"
     ]
    }
   ],
   "source": [
    "# islice() : 반복 작업 중 중단\n",
    "from itertools import islice\n",
    "\n",
    "for i in islice(range(10), 5):\n",
    "    print (i)"
   ]
  },
  {
   "cell_type": "code",
   "execution_count": 30,
   "metadata": {},
   "outputs": [
    {
     "name": "stdout",
     "output_type": "stream",
     "text": [
      "<itertools._tee object at 0x7f4d040e8d08>\n",
      "[0, 1, 2, 3, 4, 5, 6, 7, 8, 9]\n",
      "()\n",
      "[0, 1, 2, 3, 4, 5, 6, 7, 8, 9]\n",
      "[]\n",
      "(0, 1, 2, 3, 4, 5, 6, 7, 8, 9)\n",
      "[]\n"
     ]
    }
   ],
   "source": [
    "# tee\n",
    "# 동일한 객체의 복사본 객체를 생성한다\n",
    "# 출력 포맷을 정하고서 객체를 출력한다\n",
    "# 출력 후, 메모리에서 지운다.\n",
    "from itertools import tee\n",
    "\n",
    "i1, i2, i3 = tee(range(10), 3)\n",
    "print (i1)       # <itertools.tee object at 0x2a1fc68>\n",
    "print (list(i1)) # [0, 1, 2, 3, 4, 5, 6, 7, 8, 9]\n",
    "print (tuple(i1)) # []\n",
    "print (list(i2)) # [0, 1, 2, 3, 4, 5, 6, 7, 8, 9]\n",
    "print (list(i2)) # []\n",
    "print (tuple(i3)) # [0, 1, 2, 3, 4, 5, 6, 7, 8, 9]\n",
    "print (list(i3)) # []"
   ]
  },
  {
   "cell_type": "code",
   "execution_count": 35,
   "metadata": {},
   "outputs": [
    {
     "name": "stdout",
     "output_type": "stream",
     "text": [
      "0: a\n",
      "1: b\n",
      "0: c\n",
      "1: d\n",
      "0: e\n"
     ]
    }
   ],
   "source": [
    "# cycle\n",
    "# 인덱스 값을 일정값 내에서 반복출력\n",
    "from itertools import cycle\n",
    "for number, letter in zip( cycle (range(2)), ['a', 'b', 'c', 'd', 'e'] ):\n",
    "    print ('{0}: {1}'.format(number, letter))"
   ]
  },
  {
   "cell_type": "code",
   "execution_count": 38,
   "metadata": {},
   "outputs": [
    {
     "name": "stdout",
     "output_type": "stream",
     "text": [
      "['Hello, world!', 'Hello, world!', 'Hello, world!']\n"
     ]
    }
   ],
   "source": [
    "# repear\n",
    "# value 값을 반복출력\n",
    "from itertools import repeat\n",
    "print(list(repeat('Hello, world!', 3)))"
   ]
  },
  {
   "cell_type": "code",
   "execution_count": 43,
   "metadata": {},
   "outputs": [
    {
     "data": {
      "text/plain": [
       "[11, 7, 66, 100, 1, 22]"
      ]
     },
     "execution_count": 43,
     "metadata": {},
     "output_type": "execute_result"
    }
   ],
   "source": [
    "# dropwhile\n",
    "# Whlie 반복을 실행하고, 조건해당값은 Drop 후, 나머지를 출력\n",
    "# 11에서 Drop을 멈추고 나머지 출력\n",
    "from itertools import dropwhile\n",
    "list(dropwhile(lambda x: x < 10, [1, 4, 6, 7, 11, 7, 66, 100, 1, 22]))"
   ]
  },
  {
   "cell_type": "code",
   "execution_count": 40,
   "metadata": {},
   "outputs": [
    {
     "data": {
      "text/plain": [
       "[1, 4, 6, 7]"
      ]
     },
     "execution_count": 40,
     "metadata": {},
     "output_type": "execute_result"
    }
   ],
   "source": [
    "# takewhile\n",
    "# Whlie 반복을 실행하고, 조건해당값은 출력 후, 나머지를 Drop\n",
    "from itertools import takewhile\n",
    "list(takewhile(lambda x: x < 10, [1, 4, 6, 7, 11, 34, 66, 100, 1]))\n",
    "# [1, 4, 6, 7]"
   ]
  },
  {
   "cell_type": "code",
   "execution_count": 47,
   "metadata": {},
   "outputs": [
    {
     "data": {
      "text/plain": [
       "{'dan': [87, 100], 'erik': [95, 97], 'jason': [79]}"
      ]
     },
     "execution_count": 47,
     "metadata": {},
     "output_type": "execute_result"
    }
   ],
   "source": [
    "# 여러 List 객체들을 1개의 Key / Value 데이터로 묶을 때 유용하다\n",
    "\n",
    "from operator import itemgetter\n",
    "from itertools import groupby\n",
    "\n",
    "attempts = [ ('dan', 87), ('erik', 95), \n",
    "            ('jason', 79), ('erik', 97), ('dan', 100)]\n",
    "\n",
    "# Dist 내부의 Tuple의 값 중 groupby 의 Key로써 사용할 값을 정의합니다.\n",
    "attempts.sort(key = itemgetter(0))\n",
    "# Create a dictionary such that name: scores_list\n",
    "{key: sorted(map(itemgetter(1), value)) for key, value in groupby(attempts, key=itemgetter(0))}"
   ]
  },
  {
   "cell_type": "code",
   "execution_count": 48,
   "metadata": {},
   "outputs": [
    {
     "data": {
      "text/plain": [
       "defaultdict(list, {'dan': [87, 100], 'erik': [95, 97], 'jason': [79]})"
      ]
     },
     "execution_count": 48,
     "metadata": {},
     "output_type": "execute_result"
    }
   ],
   "source": [
    "from collections import defaultdict\n",
    "\n",
    "counts = defaultdict(list)\n",
    "attempts = [('dan', 87), ('erik', 95), ('jason', 79), ('erik', 97), ('dan', 100)]\n",
    "\n",
    "for (name, score) in attempts:\n",
    "    counts[name].append(score)\n",
    "counts"
   ]
  }
 ],
 "metadata": {
  "kernelspec": {
   "display_name": "Python 3",
   "language": "python",
   "name": "python3"
  },
  "language_info": {
   "codemirror_mode": {
    "name": "ipython",
    "version": 3
   },
   "file_extension": ".py",
   "mimetype": "text/x-python",
   "name": "python",
   "nbconvert_exporter": "python",
   "pygments_lexer": "ipython3",
   "version": "3.6.3"
  }
 },
 "nbformat": 4,
 "nbformat_minor": 2
}
