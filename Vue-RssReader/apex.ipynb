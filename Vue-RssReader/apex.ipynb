{
 "cells": [
  {
   "cell_type": "markdown",
   "metadata": {},
   "source": [
    "# Django Form"
   ]
  },
  {
   "cell_type": "code",
   "execution_count": 1,
   "metadata": {},
   "outputs": [],
   "source": [
    "from django import forms\n",
    "\n",
    "class ContentForm(forms.Form):\n",
    "    subject = forms.CharField()\n",
    "    email   = forms.EmailField(required=False)\n",
    "    message = forms.CharField()\n",
    "\n",
    "# from filter.forms import ContactForm"
   ]
  },
  {
   "cell_type": "markdown",
   "metadata": {},
   "source": [
    "## views.py에서 Json 만들어서 출력하기\n",
    "\n",
    "```javascript\n",
    "options = {\n",
    "  chart: {\n",
    "      height: 350,\n",
    "      type: 'line',\n",
    "      zoom: { enabled: false}\n",
    "  },\n",
    "  dataLabels: { enabled: false },\n",
    "  stroke: { curve: 'straight'},\n",
    "  series: [\n",
    "      { name: \"Desktops\",\n",
    "        data: [10, 41, 35, 51, 49, 62, 69, 91, 148]}\n",
    "  ],\n",
    "  title: {\n",
    "      text: 'Trends by Month',\n",
    "      align: 'left'\n",
    "  },\n",
    "  grid: {\n",
    "      row: {\n",
    "          colors: ['#f3f3f3', 'transparent'],\n",
    "          opacity: 0.5\n",
    "      },\n",
    "  },\n",
    "  xaxis: {\n",
    "      categories: ['Jan', 'Feb', 'Mar', 'Apr', 'May', 'Jun', 'Jul', 'Aug', 'Sep'],\n",
    "  }\n",
    "}\n",
    "```"
   ]
  },
  {
   "cell_type": "markdown",
   "metadata": {},
   "source": [
    "# Json 객체 Django에서 최대한 가공해서 결과물만 출력합니다\n",
    "## Sample Data"
   ]
  },
  {
   "cell_type": "code",
   "execution_count": 2,
   "metadata": {},
   "outputs": [
    {
     "name": "stdout",
     "output_type": "stream",
     "text": [
      "<class 'pandas.core.series.Series'>\n",
      "<class 'pandas.core.frame.DataFrame'>\n"
     ]
    }
   ],
   "source": [
    "# pandas 데이터로 line, bar 차트를 출력합니다\n",
    "import pandas as pd\n",
    "keys        = ['Jan', 'Feb', 'Mar', 'Apr', 'May', 'Jun', 'Jul', 'Aug', 'Sep']\n",
    "data_value  = [10, 41, 35, 51, 49, 62, 69, 91, 148]\n",
    "series_data = { key : data_value[no]   for no, key in enumerate(keys)}\n",
    "series_data = pd.Series(series_data)\n",
    "series_data.name = 'Desktop'\n",
    "\n",
    "import random\n",
    "dataframe_data = pd.DataFrame()\n",
    "for col in ['col1', 'col2', 'col3']:\n",
    "    random.shuffle(data_value)\n",
    "    dataframe_data[col] = data_value\n",
    "\n",
    "print(type(series_data))\n",
    "print(type(dataframe_data))\n",
    "assert type(series_data)    == pd.core.series.Series\n",
    "assert type(dataframe_data) == pd.core.frame.DataFrame"
   ]
  },
  {
   "cell_type": "markdown",
   "metadata": {},
   "source": [
    "## Functions\n",
    "Series/ DataFrame 구분하는 함수를 정의합니다"
   ]
  },
  {
   "cell_type": "code",
   "execution_count": 3,
   "metadata": {},
   "outputs": [],
   "source": [
    "import json\n",
    "import numpy as np\n",
    "# pandas series 데이터를 line 데이터로 변환 출력합니다\n",
    "def apex_line(data, type='line', zoom='False', height=350, marker=0,\n",
    "              data_label=False, curve='straight', title='None'):\n",
    "\n",
    "    options = {\n",
    "        \"chart\" : {\n",
    "            \"height\" : height,\n",
    "            \"type\" : type,\n",
    "            \"zoom\" : { \"enabled\" : zoom }\n",
    "        },\n",
    "        # 데이터 value 를 포인트에서 출력여부\n",
    "        \"dataLabels\" : { \"enabled\" : data_label },\n",
    "        \"stroke\" : { \"curve\" : curve },\n",
    "        \"title\" : {\n",
    "            \"text\" : title, # 제목출력\n",
    "            \"align\" : 'left'\n",
    "        },\n",
    "        \"grid\" : {\n",
    "            \"row\" : {\n",
    "                \"colors\" : ['#f3f3f3', 'transparent'],\n",
    "                \"opacity\" : 0.5\n",
    "            },\n",
    "        },\n",
    "        \"markers\": {\n",
    "            \"size\": marker,\n",
    "            \"hover\": {\"sizeOffset\": 2}\n",
    "        },\n",
    "        \"series\" : [ # 출력 values\n",
    "          { \"name\" : data.name,\n",
    "            \"data\" : data.values.tolist() }\n",
    "        ],\n",
    "        \"xaxis\" : {  # 출력 index\n",
    "          \"categories\" : data.index.tolist()\n",
    "        }\n",
    "    }\n",
    "    return json.dumps(options)"
   ]
  },
  {
   "cell_type": "code",
   "execution_count": 6,
   "metadata": {},
   "outputs": [],
   "source": [
    "# 위와 결합해서, 컬럼이 1개 및 Series 면 Single 출력을\n",
    "# 컬럼이 2 이상이면 DashBoard 타입으로 출력합니다\n",
    "data_set = ''\n",
    "def apex_dash(data, type='line', zoom=False, height=350,\n",
    "              data_label=False, curve='straight', title=None):\n",
    "    raw_data = data.to_dict(orient='list')\n",
    "    data_set = []\n",
    "    for key in raw_data.keys():\n",
    "        temp_dict = {}\n",
    "        temp_dict['name'] = key\n",
    "        temp_dict['data'] = raw_data[key]\n",
    "        data_set.append(temp_dict)\n",
    "\n",
    "\n",
    "    options = {\n",
    "        \"chart\": {\n",
    "            \"height\": height,\n",
    "            \"type\": type,\n",
    "            \"zoom\": {\"enabled\": zoom},\n",
    "        },\n",
    "        \"dataLabels\": {\"enabled\": data_label},\n",
    "        \"stroke\": {\n",
    "            \"width\": [3, 3, 3],\n",
    "            \"curve\": curve,\n",
    "            \"dashArray\": [0, 5, 8]\n",
    "        },\n",
    "        \"title\": {\n",
    "            \"text\": title,\n",
    "            \"align\": 'left'\n",
    "        },\n",
    "        \"markers\": {\n",
    "            \"size\": 0,\n",
    "            \"hover\": {\"sizeOffset\": 2}\n",
    "        },\n",
    "        \"grid\": {\n",
    "            \"borderColor\": '#f1f1f1',\n",
    "        },\n",
    "        \"series\": data_set, #data_set\n",
    "        \"xaxis\": {\n",
    "            \"categories\": data.index.tolist(),\n",
    "        },\n",
    "    }\n",
    "    return json.dumps(options)"
   ]
  },
  {
   "cell_type": "markdown",
   "metadata": {},
   "source": [
    "# Apex Chart Json Exporter\n",
    "## 위의 2개 함수를 합칩니다\n",
    "line bar 차트를 출력하는 함수를 정의합니다"
   ]
  },
  {
   "cell_type": "code",
   "execution_count": 7,
   "metadata": {},
   "outputs": [],
   "source": [
    "import pandas as pd \n",
    "import json\n",
    "def apex_django_json(data, types='line', zoom='False', height=350, marker=0,\n",
    "              data_label=False, curve='straight', title='None'):\n",
    "\n",
    "    # data type is Series\n",
    "    if type(data) == pd.core.series.Series:\n",
    "        data_set         = {}\n",
    "        data_set[\"name\"] = data.name\n",
    "        data_set[\"data\"] = data.values.tolist()\n",
    "        \n",
    "    # data type is DataFrame\n",
    "    elif type(data) == pd.core.frame.DataFrame:    \n",
    "        raw_data = data.to_dict(orient='list')\n",
    "        # converting Data\n",
    "        data_set = []\n",
    "        for key in raw_data.keys():\n",
    "            temp_dict         = {}\n",
    "            temp_dict['name'] = key\n",
    "            temp_dict['data'] = raw_data[key]\n",
    "            data_set.append(temp_dict)\n",
    "\n",
    "    else:\n",
    "        print('You Need to Convert to Pandas Dataset')\n",
    "        return None\n",
    "            \n",
    "    # Common Elements            \n",
    "    options = {\n",
    "        \"chart\" : {\n",
    "            \"height\" : height,\n",
    "            \"type\" : types,\n",
    "            \"zoom\" : { \"enabled\" : zoom }\n",
    "        },\n",
    "        # Value Point Size & Display the Data on Each Points\n",
    "        \"dataLabels\" : { \"enabled\" : data_label },\n",
    "        \"stroke\"     : { \"curve\" : curve },\n",
    "        \"title\" : {\n",
    "            \"text\" : title, # Chart Title\n",
    "            \"align\" : 'left'\n",
    "        },\n",
    "        \"grid\" : {\n",
    "            \"row\" : {\n",
    "                \"colors\"  : ['#f3f3f3', 'transparent'],\n",
    "                \"opacity\" : 0.5\n",
    "            },\n",
    "        },\n",
    "        \"markers\" : {\n",
    "            \"size\"  : marker,\n",
    "            \"hover\" : {\"sizeOffset\": 2}\n",
    "        },\n",
    "        \"series\": data_set, # Series : Single Dict\n",
    "        \"xaxis\" : {\n",
    "            \"categories\": data.index.tolist(),\n",
    "        },\n",
    "    }\n",
    "        \n",
    "    return json.dumps(options)"
   ]
  },
  {
   "cell_type": "code",
   "execution_count": 8,
   "metadata": {},
   "outputs": [
    {
     "data": {
      "text/plain": [
       "'{\"chart\": {\"height\": 350, \"type\": \"line\", \"zoom\": {\"enabled\": \"False\"}}, \"dataLabels\": {\"enabled\": false}, \"stroke\": {\"curve\": \"straight\"}, \"title\": {\"text\": \"None\", \"align\": \"left\"}, \"grid\": {\"row\": {\"colors\": [\"#f3f3f3\", \"transparent\"], \"opacity\": 0.5}}, \"markers\": {\"size\": 0, \"hover\": {\"sizeOffset\": 2}}, \"series\": [{\"name\": \"col1\", \"data\": [41, 49, 69, 62, 10, 35, 51, 91, 148]}, {\"name\": \"col2\", \"data\": [62, 49, 35, 10, 148, 69, 51, 41, 91]}, {\"name\": \"col3\", \"data\": [41, 10, 51, 148, 62, 91, 49, 35, 69]}], \"xaxis\": {\"categories\": [0, 1, 2, 3, 4, 5, 6, 7, 8]}}'"
      ]
     },
     "execution_count": 8,
     "metadata": {},
     "output_type": "execute_result"
    }
   ],
   "source": [
    "apex_django_json(dataframe_data)"
   ]
  },
  {
   "cell_type": "markdown",
   "metadata": {},
   "source": [
    "# Apex 에서 시계열 데이터 사용하기\n",
    "시계열을 출력해보자 [StackOverFlow](https://stackoverflow.com/questions/11875770/how-to-overcome-datetime-datetime-not-json-serializable)\n",
    "\n",
    "```python\n",
    "Is that Django strips a bit of the data:\n",
    "\n",
    " \"last_login\": \"2018-08-03T10:51:42.990\", # DjangoJSONEncoder \n",
    " \"last_login\": \"2018-08-03T10:51:42.990239\", # default\n",
    "```\n",
    "\n",
    "```javascript\n",
    "dataset = [\n",
    "    { \"x\" : new Date(1538778600000),\n",
    "      \"y\" : [6629.81, 6650.5, 6623.04, 6633.33]\n",
    "    },\n",
    "    { \"x\" : new Date(1538780400000),\n",
    "      \"y\" : [6632.01, 6643.59, 6620, 6630.11]\n",
    "    }]\n",
    "```"
   ]
  },
  {
   "cell_type": "code",
   "execution_count": 9,
   "metadata": {},
   "outputs": [],
   "source": [
    "# Import DataSet\n",
    "from pandas_datareader import get_data_yahoo\n",
    "df_raw = get_data_yahoo('005930.Ks', '2018-01-01', '2018-12-31')\n",
    "df_raw = df_raw.iloc[:, :-1]\n",
    "\n",
    "# 컬럼 데이터를 Python Int로 변환합니다 \n",
    "# (Json 변환시 np.int는 불가능 합니다)\n",
    "for col in df_raw.columns:\n",
    "    df_raw[col] = df_raw[col].astype(int)\n",
    "df_raw = df_raw.reset_index()"
   ]
  },
  {
   "cell_type": "code",
   "execution_count": 10,
   "metadata": {},
   "outputs": [],
   "source": [
    "# DateTime date to Json (포맷에 맞도록 형식을 변형합니다)\n",
    "from datetime import date, datetime\n",
    "\n",
    "# 시계열 데이터를 Json 포맷으로 변환하는 함수\n",
    "def json_serial(obj):\n",
    "    if isinstance(obj, (datetime, date)):\n",
    "        return obj.isoformat()\n",
    "    raise TypeError (\"Type %s not serializable\" % type(obj))"
   ]
  },
  {
   "cell_type": "code",
   "execution_count": 11,
   "metadata": {},
   "outputs": [
    {
     "data": {
      "text/html": [
       "<div>\n",
       "<style scoped>\n",
       "    .dataframe tbody tr th:only-of-type {\n",
       "        vertical-align: middle;\n",
       "    }\n",
       "\n",
       "    .dataframe tbody tr th {\n",
       "        vertical-align: top;\n",
       "    }\n",
       "\n",
       "    .dataframe thead th {\n",
       "        text-align: right;\n",
       "    }\n",
       "</style>\n",
       "<table border=\"1\" class=\"dataframe\">\n",
       "  <thead>\n",
       "    <tr style=\"text-align: right;\">\n",
       "      <th></th>\n",
       "      <th>Date</th>\n",
       "      <th>Open</th>\n",
       "      <th>High</th>\n",
       "      <th>Low</th>\n",
       "      <th>Close</th>\n",
       "    </tr>\n",
       "  </thead>\n",
       "  <tbody>\n",
       "    <tr>\n",
       "      <th>0</th>\n",
       "      <td>2018-01-02T15:30:00</td>\n",
       "      <td>51380</td>\n",
       "      <td>51400</td>\n",
       "      <td>50780</td>\n",
       "      <td>51020</td>\n",
       "    </tr>\n",
       "    <tr>\n",
       "      <th>1</th>\n",
       "      <td>2018-01-03T15:30:00</td>\n",
       "      <td>52540</td>\n",
       "      <td>52560</td>\n",
       "      <td>51420</td>\n",
       "      <td>51620</td>\n",
       "    </tr>\n",
       "    <tr>\n",
       "      <th>2</th>\n",
       "      <td>2018-01-04T15:30:00</td>\n",
       "      <td>52120</td>\n",
       "      <td>52180</td>\n",
       "      <td>50640</td>\n",
       "      <td>51080</td>\n",
       "    </tr>\n",
       "  </tbody>\n",
       "</table>\n",
       "</div>"
      ],
      "text/plain": [
       "                  Date   Open   High    Low  Close\n",
       "0  2018-01-02T15:30:00  51380  51400  50780  51020\n",
       "1  2018-01-03T15:30:00  52540  52560  51420  51620\n",
       "2  2018-01-04T15:30:00  52120  52180  50640  51080"
      ]
     },
     "execution_count": 11,
     "metadata": {},
     "output_type": "execute_result"
    }
   ],
   "source": [
    "# Json에 맞는 타입으로 시간자료를 바꾸고, 시간을 추가\n",
    "df_raw.Date = list(map(lambda x : json_serial(x), df_raw.Date))\n",
    "df_raw.Date = list(map(lambda x : x.replace(\"T00:00:00\", \"T15:30:00\"), df_raw.Date))\n",
    "\n",
    "# 필요한 컬럼으로 재정렬한 결과를 출력합니다\n",
    "df = df_raw[['Date','Open','High','Low','Close']]\n",
    "df.head(3)"
   ]
  },
  {
   "cell_type": "code",
   "execution_count": 12,
   "metadata": {},
   "outputs": [],
   "source": [
    "# DataFrame 데이터를 json 포맷으로 변환하기\n",
    "dataset = []\n",
    "for no in range(len(df)):\n",
    "    result = {}\n",
    "    result[\"x\"] = df.iloc[no, 0]\n",
    "    result[\"y\"] = list(df.iloc[no, 1:])\n",
    "    dataset.append(result)"
   ]
  },
  {
   "cell_type": "code",
   "execution_count": 13,
   "metadata": {},
   "outputs": [],
   "source": [
    "options = {\n",
    "    \"chart\": {\n",
    "        \"height\": 350,\n",
    "        \"type\"  : 'candlestick',\n",
    "    },\n",
    "    \"title\" : {\n",
    "        \"text\" : 'CandleStick Chart',\n",
    "        \"align\": 'left'\n",
    "    },\n",
    "    # 시계열 데이터를 입력합니다\n",
    "    \"xaxis\" : {\n",
    "        \"type\" : 'datetime'\n",
    "    },\n",
    "    \"yaxis\" : {\n",
    "        \"tooltip\" : {\n",
    "            \"enabled\": True\n",
    "        }\n",
    "    },\n",
    "    \"series\" : [{\"data\": dataset}],\n",
    "    }"
   ]
  },
  {
   "cell_type": "code",
   "execution_count": 14,
   "metadata": {},
   "outputs": [
    {
     "data": {
      "text/plain": [
       "dict"
      ]
     },
     "execution_count": 14,
     "metadata": {},
     "output_type": "execute_result"
    }
   ],
   "source": [
    "type(options)"
   ]
  },
  {
   "cell_type": "markdown",
   "metadata": {},
   "source": [
    "# Apex 에서 시계열 데이터 사용하기 2\n",
    "시계열 데이터와 볼륨을 함께 사용하기"
   ]
  },
  {
   "cell_type": "code",
   "execution_count": 19,
   "metadata": {},
   "outputs": [
    {
     "data": {
      "text/html": [
       "<div>\n",
       "<style scoped>\n",
       "    .dataframe tbody tr th:only-of-type {\n",
       "        vertical-align: middle;\n",
       "    }\n",
       "\n",
       "    .dataframe tbody tr th {\n",
       "        vertical-align: top;\n",
       "    }\n",
       "\n",
       "    .dataframe thead th {\n",
       "        text-align: right;\n",
       "    }\n",
       "</style>\n",
       "<table border=\"1\" class=\"dataframe\">\n",
       "  <thead>\n",
       "    <tr style=\"text-align: right;\">\n",
       "      <th></th>\n",
       "      <th>Date</th>\n",
       "      <th>High</th>\n",
       "      <th>Low</th>\n",
       "      <th>Open</th>\n",
       "      <th>Close</th>\n",
       "      <th>Volume</th>\n",
       "    </tr>\n",
       "  </thead>\n",
       "  <tbody>\n",
       "    <tr>\n",
       "      <th>0</th>\n",
       "      <td>2018-01-02T15:30:00</td>\n",
       "      <td>51400</td>\n",
       "      <td>50780</td>\n",
       "      <td>51380</td>\n",
       "      <td>51020</td>\n",
       "      <td>8474250</td>\n",
       "    </tr>\n",
       "    <tr>\n",
       "      <th>1</th>\n",
       "      <td>2018-01-03T15:30:00</td>\n",
       "      <td>52560</td>\n",
       "      <td>51420</td>\n",
       "      <td>52540</td>\n",
       "      <td>51620</td>\n",
       "      <td>10013500</td>\n",
       "    </tr>\n",
       "    <tr>\n",
       "      <th>2</th>\n",
       "      <td>2018-01-04T15:30:00</td>\n",
       "      <td>52180</td>\n",
       "      <td>50640</td>\n",
       "      <td>52120</td>\n",
       "      <td>51080</td>\n",
       "      <td>11695450</td>\n",
       "    </tr>\n",
       "  </tbody>\n",
       "</table>\n",
       "</div>"
      ],
      "text/plain": [
       "                  Date   High    Low   Open  Close    Volume\n",
       "0  2018-01-02T15:30:00  51400  50780  51380  51020   8474250\n",
       "1  2018-01-03T15:30:00  52560  51420  52540  51620  10013500\n",
       "2  2018-01-04T15:30:00  52180  50640  52120  51080  11695450"
      ]
     },
     "execution_count": 19,
     "metadata": {},
     "output_type": "execute_result"
    }
   ],
   "source": [
    "df_raw.head(3)"
   ]
  },
  {
   "cell_type": "code",
   "execution_count": 55,
   "metadata": {},
   "outputs": [
    {
     "data": {
      "text/plain": [
       "[{'x': '2018-01-02T15:30:00', 'y': [51400, 50780, 51380, 51020]},\n",
       " {'x': '2018-01-03T15:30:00', 'y': [52560, 51420, 52540, 51620]},\n",
       " {'x': '2018-01-04T15:30:00', 'y': [52180, 50640, 52120, 51080]}]"
      ]
     },
     "execution_count": 55,
     "metadata": {},
     "output_type": "execute_result"
    }
   ],
   "source": [
    "# ohlc 데이터 생성하기\n",
    "raw_data = df_raw.to_dict(orient='split')['data']\n",
    "seriesData = []\n",
    "for col_data in raw_data:\n",
    "    result = {}\n",
    "    result[\"x\"] = col_data[0]\n",
    "    result[\"y\"] = col_data[1:-1]\n",
    "    seriesData.append(result)\n",
    "\n",
    "seriesData[:3]"
   ]
  },
  {
   "cell_type": "code",
   "execution_count": 56,
   "metadata": {},
   "outputs": [
    {
     "data": {
      "text/plain": [
       "[{'x': '2018-01-02T15:30:00', 'y': 8474250},\n",
       " {'x': '2018-01-03T15:30:00', 'y': 10013500},\n",
       " {'x': '2018-01-04T15:30:00', 'y': 11695450}]"
      ]
     },
     "execution_count": 56,
     "metadata": {},
     "output_type": "execute_result"
    }
   ],
   "source": [
    "# volume 데이터 생성하기\n",
    "seriesDataLinear = []\n",
    "for col_data in raw_data:\n",
    "    result = {}\n",
    "    result[\"x\"] = col_data[0]\n",
    "    result[\"y\"] = col_data[-1]\n",
    "    seriesDataLinear.append(result)\n",
    "\n",
    "seriesDataLinear[:3]"
   ]
  },
  {
   "cell_type": "code",
   "execution_count": 57,
   "metadata": {},
   "outputs": [],
   "source": [
    "# 캔들차트 그리기 \n",
    "optionsCandlestick = {\n",
    "    \"chart\": {\n",
    "        \"id\" : 'candles',\n",
    "        \"height\" : 290,\n",
    "        \"type\"   : 'candlestick',\n",
    "        \"toolbar\": {\n",
    "            \"autoSelected\" : 'pan',\n",
    "            \"show\" : False\n",
    "        },\n",
    "        \"zoom\" : {\"enabled\" : False},\n",
    "    },\n",
    "    \"plotOptions\" : {\n",
    "        \"candlestick\" : {\n",
    "            \"colors\"  : {\n",
    "            \"upward\"  : '#3C90EB',\n",
    "            \"downward\": '#DF7D46'\n",
    "            }\n",
    "        }\n",
    "    },\n",
    "    \"series\" : [{ \"data\" : seriesData }],\n",
    "    \"xaxis\" : { \"type\" : 'datetime'},\n",
    "}"
   ]
  },
  {
   "cell_type": "code",
   "execution_count": 58,
   "metadata": {},
   "outputs": [],
   "source": [
    "# 볼륨차트 그리기\n",
    "options = {\n",
    "    \"chart\" : {\n",
    "        \"height\" : 160,\n",
    "        \"type\"   : 'bar',\n",
    "        \"brush\"  : {\n",
    "            \"enabled\" : True,\n",
    "            \"target\"  : 'candles'\n",
    "        },\n",
    "        \"selection\" : {\n",
    "            \"enabled\" : True,\n",
    "            \"xaxis\"   : {\n",
    "                \"min: new Date('20 Jan 2017').getTime()\",\n",
    "                \"max: new Date('10 Dec 2017').getTime()\"\n",
    "            },\n",
    "            \"fill\"    : {\n",
    "                \"color\" : '#ccc',\n",
    "                \"opacity\" : 0.4\n",
    "            },\n",
    "            \"stroke\" : {\n",
    "                \"color\" : '#0D47A1',\n",
    "            }\n",
    "        },\n",
    "    },\n",
    "    \"dataLabels\" : {\n",
    "        \"enabled\" : False\n",
    "    },\n",
    "    \"plotOptions\" : {\n",
    "        \"bar\" : {\n",
    "            \"columnWidth\" : '80%',\n",
    "            \"colors\" : {\n",
    "                \"ranges\" : [\n",
    "                    { \"from\" : -1000,\n",
    "                      \"to\" : 0,\n",
    "                      \"color\" : '#F15B46'\n",
    "                    }, {\n",
    "                        \"from\" : 1,\n",
    "                        \"to\" : 10000,\n",
    "                        \"color\" : '#FEB019'\n",
    "                    }\n",
    "                ],\n",
    "            },\n",
    "        }\n",
    "    },\n",
    "    \"stroke\" : { \"width\" : 0 },\n",
    "    \"series\" : [{\n",
    "        \"name\" : 'volume',\n",
    "        \"data\" : seriesDataLinear\n",
    "    }],\n",
    "    \"xaxis\" : {\n",
    "        \"type\" : 'datetime',\n",
    "        \"axisBorder\" : {\n",
    "            \"offsetX\" : 13\n",
    "        }\n",
    "    },\n",
    "    \"yaxis\" : {\n",
    "        \"labels\" : {\"show\" : False}\n",
    "    }\n",
    "}"
   ]
  },
  {
   "cell_type": "code",
   "execution_count": 68,
   "metadata": {},
   "outputs": [],
   "source": [
    "# https://stackoverflow.com/questions/22281059/set-object-is-not-json-serializable\n",
    "def set_default(obj):\n",
    "    if isinstance(obj, set):\n",
    "        return list(obj)\n",
    "    raise TypeError\n",
    "\n",
    "# result = json.dumps(yourdata, default=set_default)"
   ]
  },
  {
   "cell_type": "code",
   "execution_count": 70,
   "metadata": {},
   "outputs": [],
   "source": [
    "# json.dumps(options, default=set_default)"
   ]
  },
  {
   "cell_type": "code",
   "execution_count": 71,
   "metadata": {},
   "outputs": [],
   "source": [
    "# options\n",
    "# json.dumps(optionsCandlestick)"
   ]
  },
  {
   "cell_type": "code",
   "execution_count": 60,
   "metadata": {},
   "outputs": [],
   "source": [
    "def apex_candle_vol(code = '005930.KS', height=350, marker=0):\n",
    "\n",
    "    # 필요한 컬럼으로 재정렬한 결과를 출력합니다\n",
    "    df = stock_data('005930.KS')\n",
    "\n",
    "    # ohlc 데이터 생성하기\n",
    "    raw_data = df.to_dict(orient='split')['data']\n",
    "    seriesData = []\n",
    "    for col_data in raw_data:\n",
    "        result = {}\n",
    "        result[\"x\"] = col_data[0]\n",
    "        result[\"y\"] = col_data[1:-1]\n",
    "        seriesData.append(result)\n",
    "\n",
    "    # volume 데이터 생성하기\n",
    "    seriesDataLinear = []\n",
    "    for col_data in raw_data:\n",
    "        result = {}\n",
    "        result[\"x\"] = col_data[0]\n",
    "        result[\"y\"] = col_data[-1]\n",
    "        seriesDataLinear.append(result)\n",
    "\n",
    "    # 캔들차트 그리기\n",
    "    optionsCandlestick = {\n",
    "        \"chart\": {\n",
    "            \"id\": 'candles',\n",
    "            \"height\": 290,\n",
    "            \"type\": 'candlestick',\n",
    "            \"toolbar\": {\n",
    "                \"autoSelected\": 'pan',\n",
    "                \"show\": False\n",
    "            },\n",
    "            \"zoom\": {\"enabled\": False},\n",
    "        },\n",
    "        \"plotOptions\": {\n",
    "            \"candlestick\": {\n",
    "                \"colors\": {\n",
    "                    \"upward\": '#3C90EB',\n",
    "                    \"downward\": '#DF7D46'\n",
    "                }\n",
    "            }\n",
    "        },\n",
    "        \"series\": [{\"data\": seriesData}],\n",
    "        \"xaxis\": {\"type\": 'datetime'},\n",
    "    }\n",
    "\n",
    "    # 볼륨차트 그리기\n",
    "    options = {\n",
    "        \"chart\": {\n",
    "            \"height\": 160,\n",
    "            \"type\": 'bar',\n",
    "            \"brush\": {\n",
    "                \"enabled\": True,\n",
    "                \"target\": 'candles'\n",
    "            },\n",
    "            \"selection\": {\n",
    "                \"enabled\": True,\n",
    "                \"xaxis\": {\n",
    "                    \"min: new Date('20 Jan 2017').getTime()\",\n",
    "                    \"max: new Date('10 Dec 2017').getTime()\"\n",
    "                },\n",
    "                \"fill\": {\n",
    "                    \"color\": '#ccc',\n",
    "                    \"opacity\": 0.4\n",
    "                },\n",
    "                \"stroke\": {\n",
    "                    \"color\": '#0D47A1',\n",
    "                }\n",
    "            },\n",
    "        },\n",
    "        \"dataLabels\": {\n",
    "            \"enabled\": False\n",
    "        },\n",
    "        \"plotOptions\": {\n",
    "            \"bar\": {\n",
    "                \"columnWidth\": '80%',\n",
    "                \"colors\": {\n",
    "                    \"ranges\": [\n",
    "                        {\"from\": -1000,\n",
    "                         \"to\": 0,\n",
    "                         \"color\": '#F15B46'\n",
    "                         }, {\n",
    "                            \"from\": 1,\n",
    "                            \"to\": 10000,\n",
    "                            \"color\": '#FEB019'\n",
    "                        }\n",
    "                    ],\n",
    "                },\n",
    "            }\n",
    "        },\n",
    "        \"stroke\": {\"width\": 0},\n",
    "        \"series\": [{\n",
    "            \"name\": 'volume',\n",
    "            \"data\": seriesDataLinear\n",
    "        }],\n",
    "        \"xaxis\": {\n",
    "            \"type\": 'datetime',\n",
    "            \"axisBorder\": {\n",
    "                \"offsetX\": 13\n",
    "            }\n",
    "        },\n",
    "        \"yaxis\": {\n",
    "            \"labels\": {\"show\": False}\n",
    "        }\n",
    "    }\n",
    "    return json.dumps(options), json.dumps(optionsCandlestick)\n"
   ]
  },
  {
   "cell_type": "code",
   "execution_count": 72,
   "metadata": {},
   "outputs": [],
   "source": [
    "from pandas_datareader import get_data_yahoo\n",
    "def stock_data(code):\n",
    "    df = get_data_yahoo(code, '2018-01-01', '2018-12-31')\n",
    "    df = df.iloc[:, :-1]\n",
    "    for col in df.columns:\n",
    "        df[col] = df[col].astype(int)\n",
    "    df = df.reset_index()\n",
    "\n",
    "    # Json 타입으로 시간자료를 바꾸고, 시간을 추가\n",
    "    df.Date = list(map(lambda x: json_serial(x), df.Date))\n",
    "    df.Date = list(map(lambda x: x.replace(\"T00:00:00\", \"T15:30:00\"), df.Date))\n",
    "    return df"
   ]
  },
  {
   "cell_type": "code",
   "execution_count": null,
   "metadata": {},
   "outputs": [],
   "source": []
  },
  {
   "cell_type": "code",
   "execution_count": null,
   "metadata": {},
   "outputs": [],
   "source": []
  },
  {
   "cell_type": "code",
   "execution_count": null,
   "metadata": {},
   "outputs": [],
   "source": []
  },
  {
   "cell_type": "code",
   "execution_count": null,
   "metadata": {},
   "outputs": [],
   "source": []
  },
  {
   "cell_type": "code",
   "execution_count": null,
   "metadata": {},
   "outputs": [],
   "source": []
  },
  {
   "cell_type": "code",
   "execution_count": null,
   "metadata": {},
   "outputs": [],
   "source": []
  },
  {
   "cell_type": "code",
   "execution_count": null,
   "metadata": {},
   "outputs": [],
   "source": []
  },
  {
   "cell_type": "code",
   "execution_count": null,
   "metadata": {},
   "outputs": [],
   "source": []
  },
  {
   "cell_type": "code",
   "execution_count": null,
   "metadata": {},
   "outputs": [],
   "source": []
  },
  {
   "cell_type": "code",
   "execution_count": null,
   "metadata": {},
   "outputs": [],
   "source": []
  },
  {
   "cell_type": "code",
   "execution_count": null,
   "metadata": {},
   "outputs": [],
   "source": []
  },
  {
   "cell_type": "code",
   "execution_count": null,
   "metadata": {},
   "outputs": [],
   "source": [
    "# 데이터 포맷을 변환하는 함수를 작성합니다\n",
    "from datetime import date, datetime\n",
    "\n",
    "# 시계열 데이터를 Json 포맷으로 변환하는 함수\n",
    "def json_serial(obj):\n",
    "    if isinstance(obj, (datetime, date)):\n",
    "        return obj.isoformat()\n",
    "    raise TypeError (\"Type %s not serializable\" % type(obj))\n",
    "\n",
    "json_serial(datetime.now())"
   ]
  },
  {
   "cell_type": "code",
   "execution_count": null,
   "metadata": {},
   "outputs": [],
   "source": [
    "import pandas as pd\n",
    "one_year = pd.date_range('2018-01-01',periods=365)\n",
    "list(map(lambda x: json_serial(x), one_year))[:3]"
   ]
  },
  {
   "cell_type": "code",
   "execution_count": null,
   "metadata": {},
   "outputs": [],
   "source": [
    "# Python 에서 생성된 시계열 값을 Json 타입으로 변환합니다\n",
    "# from pandas_datareader import get_data_yahoo\n",
    "# df = get_data_yahoo('005930.Ks', '2018-01-01', '2018-12-31')\n",
    "# df = df.iloc[:, :-1]\n",
    "# for col in df.columns:\n",
    "#     df[col] = df[col].astype(int)\n",
    "# df = df.reset_index()\n",
    "# df.to_csv('stock.csv', index=None)\n",
    "\n",
    "# 데이터 불러오기\n",
    "df      = pd.read_csv('stock.csv')\n",
    "df.Date = pd.DatetimeIndex(df.Date)\n",
    "\n",
    "# Json에 맞는 타입으로 시간자료를 바꾸고, 시간을 추가\n",
    "df.Date = list(map(lambda x : json_serial(x), df.Date))\n",
    "df.Date = list(map(lambda x : x.replace(\"T00:00:00\", \"T15:30:00\"), df.Date))\n",
    "\n",
    "# 필요한 컬럼으로 재정렬한 결과를 출력합니다\n",
    "df = df[['Date', 'Open', 'High','Low','Close']]\n",
    "df.head(3)"
   ]
  },
  {
   "cell_type": "code",
   "execution_count": null,
   "metadata": {},
   "outputs": [],
   "source": [
    "# {'dict', 'list', 'series', 'split', 'records', 'index'}\n",
    "dataset = []\n",
    "raw_data = df.to_dict(orient='split')['data']\n",
    "for col_data in raw_data:\n",
    "    result = {}\n",
    "    result[\"x\"] = col_data[0] \n",
    "    result[\"y\"] = col_data[1:]\n",
    "    dataset.append(result)"
   ]
  },
  {
   "cell_type": "code",
   "execution_count": null,
   "metadata": {},
   "outputs": [],
   "source": [
    "dataset[-15:]"
   ]
  },
  {
   "cell_type": "code",
   "execution_count": null,
   "metadata": {},
   "outputs": [],
   "source": [
    "options = {\n",
    "    \"chart\": {\n",
    "        \"height\": 350,\n",
    "        \"type\"  : 'candlestick',\n",
    "    },\n",
    "    \"title\" : {\n",
    "        \"text\" : 'CandleStick Chart',\n",
    "        \"align\": 'left'\n",
    "    },\n",
    "    # 시계열 데이터를 입력합니다\n",
    "    \"xaxis\" : {\n",
    "        \"type\" : 'datetime'\n",
    "    },\n",
    "    \"yaxis\" : {\n",
    "        \"tooltip\" : {\n",
    "            \"enabled\": True\n",
    "        }\n",
    "    },\n",
    "    \"series\" : [{\"data\": dataset}],\n",
    "    }\n"
   ]
  },
  {
   "cell_type": "code",
   "execution_count": null,
   "metadata": {},
   "outputs": [],
   "source": [
    "df.info()"
   ]
  },
  {
   "cell_type": "code",
   "execution_count": null,
   "metadata": {},
   "outputs": [],
   "source": [
    "df.iloc[0,:]"
   ]
  },
  {
   "cell_type": "code",
   "execution_count": null,
   "metadata": {},
   "outputs": [],
   "source": [
    "dataset"
   ]
  },
  {
   "cell_type": "code",
   "execution_count": null,
   "metadata": {},
   "outputs": [],
   "source": [
    "options = {\n",
    "      \"chart\": {\n",
    "        \"height\" : 350,\n",
    "        \"type\"   : 'candlestick',\n",
    "      },\n",
    "      \"series\" : [{\n",
    "        \"data\" : dataset\n",
    "      }],\n",
    "      \"title\" : {\n",
    "        \"text\"  : 'CandleStick Chart',\n",
    "        \"align\" : 'left'\n",
    "      },\n",
    "      \"xaxis\" : {\n",
    "        \"type\" : 'datetime'\n",
    "      },\n",
    "      \"yaxis\" : {\n",
    "        \"tooltip\" : {\n",
    "          \"enabled\" : True\n",
    "        }\n",
    "      }\n",
    "    }"
   ]
  }
 ],
 "metadata": {
  "kernelspec": {
   "display_name": "Python 3",
   "language": "python",
   "name": "python3"
  },
  "language_info": {
   "codemirror_mode": {
    "name": "ipython",
    "version": 3
   },
   "file_extension": ".py",
   "mimetype": "text/x-python",
   "name": "python",
   "nbconvert_exporter": "python",
   "pygments_lexer": "ipython3",
   "version": "3.6.9"
  }
 },
 "nbformat": 4,
 "nbformat_minor": 2
}
