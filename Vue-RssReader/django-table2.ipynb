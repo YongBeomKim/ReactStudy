{
 "cells": [
  {
   "cell_type": "markdown",
   "metadata": {},
   "source": [
    "# django-tables2\n",
    "테이블의 컬럼 데이터 수정하기\n",
    "https://django-tables2.readthedocs.io/en/latest/pages/custom-data.html\n",
    "1. 우선 작업 Process 를 잘 익히자\n",
    "1. Data 호출 -> **Data 를 클래스 인스턴스로** 변환 \n",
    "1. **django-table2 사용자함수를** view에 정의\n",
    "1. Data 클래스 인스턴스를 **django-table2 사용자함수에** 적용결과를 template로 전달"
   ]
  },
  {
   "cell_type": "markdown",
   "metadata": {},
   "source": [
    "## 1 테이블 객체 접근자\n",
    "Accessors [link](https://django-tables2.readthedocs.io/en/latest/pages/custom-data.html)\n",
    "1. 하지만 이거 없어도 dict 객체접근 방식을 사용가능"
   ]
  },
  {
   "cell_type": "code",
   "execution_count": 8,
   "metadata": {},
   "outputs": [
    {
     "data": {
      "text/plain": [
       "{'one': {'two': 'three'}}"
      ]
     },
     "execution_count": 8,
     "metadata": {},
     "output_type": "execute_result"
    }
   ],
   "source": [
    "from django_tables2 import A\n",
    "# List dict 데이터를 수정하기\n",
    "data = {'abc': {\n",
    "    'one':{\n",
    "        'two':'three'\n",
    "    }\n",
    "}}\n",
    "\n",
    "A('abc').resolve(data)"
   ]
  },
  {
   "cell_type": "code",
   "execution_count": 9,
   "metadata": {},
   "outputs": [
    {
     "data": {
      "text/plain": [
       "'three'"
      ]
     },
     "execution_count": 9,
     "metadata": {},
     "output_type": "execute_result"
    }
   ],
   "source": [
    "A('abc.one.two').resolve(data)"
   ]
  },
  {
   "cell_type": "markdown",
   "metadata": {},
   "source": [
    "## 2 테이블 컬럼의 속성변경\n",
    "Table.render_**컬럼명** 메소드\n",
    "1. 위의 **컬럼명**은 **Table의 컬럼명과 일치**해야 한다\n",
    "1. 컬럼별 소숫점 처리등 다양한 처리가 가능하다\n",
    "1. 단 연산컬럼에 **empty value** 가 중간에 있으면 최초값으로 처리하므로 주의 (False 등은 자동처리됨)"
   ]
  },
  {
   "cell_type": "code",
   "execution_count": 11,
   "metadata": {},
   "outputs": [],
   "source": [
    "import django_tables2 as tables\n",
    "import itertools # 자신만의 반복자\n",
    "\n",
    "# 1 Data Instance Function : 인덱스 조작기능 추가\n",
    "class SimpleTable(tables.Table):\n",
    "    \n",
    "    row_number = tables.Column(empty_values=()) # 객체의 갯수값 index 값 \n",
    "    id_num  = tables.Column()\n",
    "    age     = tables.Column()\n",
    "    pay     = tables.Column()\n",
    "    \n",
    "    def __init__(self, *args, **kwargs): \n",
    "        super(SimpleTable, self).__init__(*args, **kwargs)\n",
    "        self.counter = itertools.count()\n",
    "    # 반복자 갯수 Count\n",
    "    def render_row_number(self):\n",
    "        return 'Row %d' % next(self.counter) \n",
    "    # id 컬럼의 값에 < > 씌우기\n",
    "    def render_id_num(self, value):  \n",
    "        return '<%s>' % value\n",
    "    # 1,000 콤마 추가하기\n",
    "    def render_pay(self, value):\n",
    "        return \"{:,}\".format(value)"
   ]
  },
  {
   "cell_type": "code",
   "execution_count": 12,
   "metadata": {},
   "outputs": [
    {
     "name": "stdout",
     "output_type": "stream",
     "text": [
      "Row 0, <10>, 31, 0\n",
      "Row 1, <11>, 34, 232,123\n",
      "Row 2, <13>, 41, 523,123\n"
     ]
    }
   ],
   "source": [
    "# 2 Data Set\n",
    "data_set = [\n",
    "    {'age': 31, 'id_num': 10, 'pay':False}, \n",
    "    {'age': 34, 'id_num': 11, 'pay':232123},\n",
    "    {'age': 41, 'id_num': 13, 'pay':523123},\n",
    "    {'age': 39, 'id_num': 18, 'pay':928123},\n",
    "    {'age': 32, 'id_num': 91, 'pay':132123},\n",
    "]\n",
    "# 3 Apply the DataSet\n",
    "table = SimpleTable(data_set)\n",
    "\n",
    "for i in range(3):\n",
    "    print(', '.join(map(str, table.rows[i]))) # 행번호별 객체값을 관리 가능하다"
   ]
  },
  {
   "cell_type": "markdown",
   "metadata": {},
   "source": [
    "## SubClassing"
   ]
  },
  {
   "cell_type": "code",
   "execution_count": 15,
   "metadata": {},
   "outputs": [
    {
     "data": {
      "text/plain": [
       "<__main__.Example at 0x7f30476ba9e8>"
      ]
     },
     "execution_count": 15,
     "metadata": {},
     "output_type": "execute_result"
    }
   ],
   "source": [
    "import django_tables2 as tables\n",
    "class UpperColumn(tables.Column):\n",
    "    def render(self, value):\n",
    "        return value.upper()\n",
    "\n",
    "class Example(tables.Table):\n",
    "    normal = tables.Column()\n",
    "    upper = UpperColumn()\n",
    "\n",
    "data = [{'normal': 'Hi there!',\n",
    "         'upper':  'Hi there!'}]\n",
    "# renders to something like this:\n",
    "table = Example(data)\n",
    "table"
   ]
  },
  {
   "cell_type": "code",
   "execution_count": 16,
   "metadata": {},
   "outputs": [],
   "source": [
    "# 파일이름만 호출하고, 태그를 추가한 탬플릿을 생성 가능하다\n",
    "from django.utils.html import format_html\n",
    "class ImageColumn(tables.Column):\n",
    "    def render(self, value):\n",
    "        return format_html('<img src=\"/media/img/{}.jpg\" />', value)"
   ]
  },
  {
   "cell_type": "code",
   "execution_count": 22,
   "metadata": {},
   "outputs": [
    {
     "data": {
      "text/plain": [
       "<bound method Column.value of <__main__.ImageColumn object at 0x7f3064353198>>"
      ]
     },
     "execution_count": 22,
     "metadata": {},
     "output_type": "execute_result"
    }
   ],
   "source": [
    "ImageColumn(data).value\n",
    "\n",
    "# 랜더링 결과\n",
    "# '''<table>\n",
    "#     <thead><tr><th>Normal</th><th>Upper</th></tr></thead>\n",
    "#     <tbody><tr><td>Hi there!</td><td>HI THERE!</td></tr></tbody>\n",
    "# </table>'''"
   ]
  },
  {
   "cell_type": "markdown",
   "metadata": {},
   "source": [
    "## 정렬 순서 바꾸기\n",
    "SubClassing"
   ]
  },
  {
   "cell_type": "code",
   "execution_count": 8,
   "metadata": {},
   "outputs": [],
   "source": [
    "# # Django / App/ models.py\n",
    "# class Person(models.Model):\n",
    "#     first_name  = models.CharField(max_length=200)\n",
    "#     family_name = models.CharField(max_length=200)\n",
    "\n",
    "#     @property\n",
    "#     def name(self):\n",
    "#         return '{} {}'.format(self.first_name, self.family_name)\n",
    "# #---------------------------------------------------------------\n",
    "# # tables.py\n",
    "# class PersonTable(tables.Table):\n",
    "#     name = tables.Column()"
   ]
  },
  {
   "cell_type": "code",
   "execution_count": 26,
   "metadata": {},
   "outputs": [],
   "source": [
    "data_set = [\n",
    "    {'first_name': 'YB', 'family_name': 'Kim'}, \n",
    "    {'first_name': 'KB', 'family_name': 'Lee'}, \n",
    "    {'first_name': 'AB', 'family_name': 'Lee'}, \n",
    "    {'first_name': 'CB', 'family_name': 'Kim'}, \n",
    "]"
   ]
  },
  {
   "cell_type": "code",
   "execution_count": 27,
   "metadata": {},
   "outputs": [],
   "source": [
    "# 1. Data Instance Function\n",
    "import django_tables2 as tables\n",
    "\n",
    "class PersonTable(tables.Table):\n",
    "    first_name  = tables.Column()\n",
    "    family_name = tables.Column()\n",
    "    # 해당컬럼 정렬시 우선적 정렬기준 컬럼을 지정 가능하다\n",
    "    summary    = tables.Column(order_by=(\"name\", \"population\"))\n",
    "    \n",
    "    @property\n",
    "    def name(self):\n",
    "        return '{} {}'.format(self.first_name, self.family_name)"
   ]
  },
  {
   "cell_type": "code",
   "execution_count": 28,
   "metadata": {},
   "outputs": [
    {
     "data": {
      "text/plain": [
       "<__main__.PersonTable at 0x7f304764e320>"
      ]
     },
     "execution_count": 28,
     "metadata": {},
     "output_type": "execute_result"
    }
   ],
   "source": [
    "table = PersonTable(data_set)\n",
    "table.order_by = 'name'\n",
    "table"
   ]
  },
  {
   "cell_type": "markdown",
   "metadata": {},
   "source": [
    "## 테이블에 CSS id값 추가하기\n",
    "자세한 내용 보기 : https://django-tables2.readthedocs.io/en/latest/pages/column-attributes.html"
   ]
  },
  {
   "cell_type": "code",
   "execution_count": 12,
   "metadata": {},
   "outputs": [],
   "source": [
    "import django_tables2 as tables\n",
    "\n",
    "class SimpleTable(tables.Table):\n",
    "    name = tables.Column(attrs={'th': {'id': 'foo'}})\n",
    "\n",
    "# >>> 위 내용으로 랜더링 결과\n",
    "# '{snip}<thead><tr><th id=\"foo\">{snip}<tbody><tr><td>{snip}'"
   ]
  },
  {
   "cell_type": "code",
   "execution_count": 13,
   "metadata": {},
   "outputs": [],
   "source": [
    "# id값 만이 아니라 연산결과 값의 추가도 가능하다\n",
    "class Table(tables.Table):\n",
    "    person = tables.Column(attrs={\n",
    "        'td': {'data-length': lambda value: len(value)}\n",
    "    })"
   ]
  },
  {
   "cell_type": "markdown",
   "metadata": {},
   "source": [
    "## 테이블 Header, Footer 변경하기\n",
    "\n",
    "accessor : 컬럼명이 다를 때 연결자 (굳이 필요한가?)"
   ]
  },
  {
   "cell_type": "code",
   "execution_count": 14,
   "metadata": {},
   "outputs": [],
   "source": [
    "from django.db import models\n",
    "\n",
    "# class Region(models.Model):\n",
    "#     name = models.CharField(max_length=200)\n",
    "\n",
    "# class Person(models.Model):\n",
    "#     first_name = models.CharField(verbose_name='model verbose name', max_length=200)\n",
    "#     last_name  = models.CharField(max_length=200)\n",
    "#     region     = models.ForeignKey('Region')\n",
    "\n",
    "class PersonTable(tables.Table):\n",
    "    first_name = tables.Column()\n",
    "    ln         = tables.Column(accessor='last_name')\n",
    "    region_name = tables.Column(accessor='region.name')\n",
    "\n",
    "# table = PersonTable(Person.objects.all())\n",
    "# table.columns['first_name'].header\n",
    "# #'Model Verbose Name'\n",
    "# table.columns['ln'].header\n",
    "# #'Last Name'\n",
    "# table.columns['region_name'].header\n",
    "# #'Name'"
   ]
  },
  {
   "cell_type": "markdown",
   "metadata": {},
   "source": [
    "## 테이블간 데이터 교차적용\n",
    "다른 테이블 인스턴스에서 데이터 불러오기"
   ]
  },
  {
   "cell_type": "code",
   "execution_count": 15,
   "metadata": {},
   "outputs": [
    {
     "data": {
      "text/plain": [
       "odict_keys(['name'])"
      ]
     },
     "execution_count": 15,
     "metadata": {},
     "output_type": "execute_result"
    }
   ],
   "source": [
    "# 상속받은 부모컬럼명 출력\n",
    "class UselessMixin(object):\n",
    "    first_name = tables.Column()\n",
    "    \n",
    "class TestTable(UselessMixin, tables.Table):\n",
    "    name = tables.Column()\n",
    "\n",
    "TestTable.base_columns.keys()"
   ]
  },
  {
   "cell_type": "code",
   "execution_count": 16,
   "metadata": {},
   "outputs": [
    {
     "data": {
      "text/plain": [
       "odict_keys(['first_name', 'name'])"
      ]
     },
     "execution_count": 16,
     "metadata": {},
     "output_type": "execute_result"
    }
   ],
   "source": [
    "# 상속받은 부모와 자식컬럼명 출력\n",
    "class UsefulMixin(tables.Table):\n",
    "    first_name = tables.Column()\n",
    "\n",
    "class TestTable(UsefulMixin, tables.Table):\n",
    "    name = tables.Column()\n",
    "\n",
    "TestTable.base_columns.keys()"
   ]
  },
  {
   "cell_type": "markdown",
   "metadata": {},
   "source": [
    "## CSS 스타일 적용하기\n",
    "https://django-tables2.readthedocs.io/en/latest/pages/custom-rendering.html"
   ]
  },
  {
   "cell_type": "code",
   "execution_count": 17,
   "metadata": {},
   "outputs": [],
   "source": [
    "import django_tables2 as tables\n",
    "class SimpleTable(tables.Table):\n",
    "    \n",
    "    id  = tables.Column(attrs={'td': {'class': 'my-class'}})\n",
    "    age = tables.Column(attrs={'tf': {'bgcolor': 'red'}})\n",
    "\n",
    "    class Meta:\n",
    "        attrs = {'class': 'mytable'}\n",
    "\n",
    "render = \"\"\"<table class=\"mytable\">\n",
    "        <tr class=\"odd\">\n",
    "            <td class=\"id\">...</td>\n",
    "            <td class=\"age\">...</td>\n",
    "        </tr>\n",
    "        <tr class=\"even\">\n",
    "          <td class=\"id\">...</td>\n",
    "          <td class=\"age\">...</td>\n",
    "        </tr> </table>\"\"\"\n",
    "# table = SimpleTable()"
   ]
  },
  {
   "cell_type": "markdown",
   "metadata": {},
   "source": [
    "## Export TableData\n",
    "다양한 포맷으로 출력하기"
   ]
  },
  {
   "cell_type": "code",
   "execution_count": 23,
   "metadata": {},
   "outputs": [],
   "source": [
    "# ! pip install tablib"
   ]
  },
  {
   "cell_type": "code",
   "execution_count": 24,
   "metadata": {},
   "outputs": [],
   "source": [
    "import django_tables2 as tables\n",
    "from django_tables2.export.views import ExportMixin\n",
    "\n",
    "# from .models import Person\n",
    "# from .tables import MyTable\n",
    "\n",
    "# class TableView(ExportMixin, tables.SingleTableView):\n",
    "#     table_class = MyTable   # 테이블 인스턴스\n",
    "#     model = Person          # models.py 모델 클래스\n",
    "#     template_name = 'django_tables2/bootstrap.html'"
   ]
  },
  {
   "cell_type": "code",
   "execution_count": null,
   "metadata": {},
   "outputs": [],
   "source": []
  },
  {
   "cell_type": "code",
   "execution_count": null,
   "metadata": {},
   "outputs": [],
   "source": [
    "from django_tables2.config import RequestConfig\n",
    "from django_tables2.export.export import TableExport\n",
    "\n",
    "# from .models import Person\n",
    "# from .tables import MyTable\n",
    "\n",
    "def table_view(request):\n",
    "    table = MyTable(Person.objects.all())\n",
    "    RequestConfig(request).configure(table)\n",
    "    export_format = request.GET.get('_export', None)\n",
    "\n",
    "    if TableExport.is_valid_format(export_format):\n",
    "        exporter = TableExport(export_format, table)\n",
    "        return exporter.response('table.{}'.format(export_format))\n",
    "\n",
    "    return render(request, 'table.html', {\n",
    "        'table': table\n",
    "    })"
   ]
  },
  {
   "cell_type": "code",
   "execution_count": null,
   "metadata": {},
   "outputs": [],
   "source": []
  },
  {
   "cell_type": "code",
   "execution_count": null,
   "metadata": {},
   "outputs": [],
   "source": []
  },
  {
   "cell_type": "code",
   "execution_count": null,
   "metadata": {},
   "outputs": [],
   "source": []
  }
 ],
 "metadata": {
  "kernelspec": {
   "display_name": "Python 3",
   "language": "python",
   "name": "python3"
  },
  "language_info": {
   "codemirror_mode": {
    "name": "ipython",
    "version": 3
   },
   "file_extension": ".py",
   "mimetype": "text/x-python",
   "name": "python",
   "nbconvert_exporter": "python",
   "pygments_lexer": "ipython3",
   "version": "3.6.3"
  }
 },
 "nbformat": 4,
 "nbformat_minor": 2
}
